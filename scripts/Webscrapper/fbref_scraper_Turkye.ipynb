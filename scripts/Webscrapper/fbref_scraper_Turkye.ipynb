{
 "cells": [
  {
   "cell_type": "code",
   "execution_count": 1,
   "metadata": {},
   "outputs": [
    {
     "name": "stderr",
     "output_type": "stream",
     "text": [
      "/Users/hachikaruanyakwee/Library/Python/3.9/lib/python/site-packages/urllib3/__init__.py:34: NotOpenSSLWarning: urllib3 v2.0 only supports OpenSSL 1.1.1+, currently the 'ssl' module is compiled with 'LibreSSL 2.8.3'. See: https://github.com/urllib3/urllib3/issues/3020\n",
      "  warnings.warn(\n"
     ]
    }
   ],
   "source": [
    "import os\n",
    "import requests\n",
    "from bs4 import BeautifulSoup, Comment\n",
    "import pandas as pd"
   ]
  },
  {
   "cell_type": "code",
   "execution_count": 2,
   "metadata": {},
   "outputs": [],
   "source": [
    "# Data directory configuration\n",
    "DATA_DIR = \"data\"\n",
    "RAW_DATA_DIR = os.path.join(\"..\", DATA_DIR, \"raw\")\n",
    "os.makedirs(RAW_DATA_DIR, exist_ok=True)"
   ]
  },
  {
   "cell_type": "code",
   "execution_count": 3,
   "metadata": {},
   "outputs": [],
   "source": [
    "# FBref URL for Süper Lig 2024-2025 Standard Stats\n",
    "URL = \"https://fbref.com/en/comps/26/stats/Super-Lig-Stats#all_stats_standard\""
   ]
  },
  {
   "cell_type": "code",
   "execution_count": null,
   "metadata": {},
   "outputs": [],
   "source": [
    "# Function to parse HTML table into DataFrame\n",
    "def get_fbref_table(url):\n",
    "    response = requests.get(url)\n",
    "    if response.status_code != 200:\n",
    "        raise Exception(f\"Failed to load page {url} with status code {response.status_code}\")\n",
    "    \n",
    "    soup = BeautifulSoup(response.content, \"html.parser\")\n",
    "    \n",
    "    # FBref hides tables inside HTML comments\n",
    "    comments = soup.find_all(string=lambda text: isinstance(text, Comment))\n",
    "    \n",
    "    for comment in comments:\n",
    "        comment_soup = BeautifulSoup(str(comment), \"html.parser\")\n",
    "        table = comment_soup.find(\"table\", id=\"stats_standard\")\n",
    "        if table:\n",
    "            return table\n",
    "    \n",
    "    raise Exception(\"Could not find the 'stats_standard' table in the comments.\")"
   ]
  },
  {
   "cell_type": "code",
   "execution_count": null,
   "metadata": {},
   "outputs": [],
   "source": [
    "# Function to parse HTML table into DataFrame\n",
    "def parse_table_to_df(table):\n",
    "\n",
    "    header_rows = table.find(\"thead\").find_all(\"tr\")\n",
    "    headers = [th.get_text(strip=True) for th in header_rows[-1].find_all(\"th\")]\n",
    "\n",
    "    rows = table.find(\"tbody\").find_all(\"tr\")\n",
    "    data = []\n",
    "\n",
    "    for row in rows:\n",
    "        if row.get(\"class\") and \"thead\" in row.get(\"class\"):\n",
    "            continue  # Skip sub-header rows\n",
    "\n",
    "        cells = row.find_all([\"th\", \"td\"])\n",
    "        row_data = [cell.get_text(strip=True) for cell in cells]\n",
    "\n",
    "        if len(row_data) != len(headers):\n",
    "            print(f\"⚠️ Skipping row due to length mismatch ({len(row_data)} vs {len(headers)}): {row_data[:5]}\")\n",
    "            continue\n",
    "\n",
    "        data.append(row_data)\n",
    "\n",
    "    if not data:\n",
    "        raise ValueError(\"No valid rows found in table.\")\n",
    "\n",
    "    df = pd.DataFrame(data, columns=headers)\n",
    "\n",
    "    # Clean column names\n",
    "    df.columns = [col.replace(\"\\n\", \" \").strip() for col in df.columns]\n",
    "\n",
    "    return df"
   ]
  },
  {
   "cell_type": "code",
   "execution_count": null,
   "metadata": {},
   "outputs": [],
   "source": [
    "# Skip sub-header rows\n",
    "def save_to_csv(df, filename):\n",
    "    file_path = os.path.join(RAW_DATA_DIR, filename)\n",
    "    df.to_csv(file_path, index=False)\n",
    "    print(f\"✅ Saved data to {file_path}\")"
   ]
  },
  {
   "cell_type": "code",
   "execution_count": null,
   "metadata": {},
   "outputs": [
    {
     "name": "stderr",
     "output_type": "stream",
     "text": [
      "/var/folders/wc/lj0_3jjn1zv0_y7s7thm5jqw0000gn/T/ipykernel_23626/565845380.py:12: MarkupResemblesLocatorWarning: The input looks more like a filename than markup. You may want to open this file and pass the filehandle into Beautiful Soup.\n",
      "  comment_soup = BeautifulSoup(str(comment), \"html.parser\")\n"
     ]
    },
    {
     "name": "stdout",
     "output_type": "stream",
     "text": [
      "✅ Saved data to ../data/raw/super_lig_Turkye_2024_2025_stats.csv\n"
     ]
    }
   ],
   "source": [
    "# Main script runner\n",
    "def main():\n",
    "    try:\n",
    "        table = get_fbref_table(URL)\n",
    "        df = parse_table_to_df(table)\n",
    "        save_to_csv(df, \"super_lig_Turkye_2024_2025_stats.csv\")\n",
    "    except Exception as e:\n",
    "        print(f\"❌ Error: {e}\")\n",
    "\n",
    "if __name__ == \"__main__\":\n",
    "    main()"
   ]
  }
 ],
 "metadata": {
  "kernelspec": {
   "display_name": "Python 3",
   "language": "python",
   "name": "python3"
  },
  "language_info": {
   "codemirror_mode": {
    "name": "ipython",
    "version": 3
   },
   "file_extension": ".py",
   "mimetype": "text/x-python",
   "name": "python",
   "nbconvert_exporter": "python",
   "pygments_lexer": "ipython3",
   "version": "3.9.6"
  }
 },
 "nbformat": 4,
 "nbformat_minor": 2
}
