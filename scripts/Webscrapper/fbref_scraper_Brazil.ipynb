{
 "cells": [
  {
   "cell_type": "code",
   "execution_count": 1,
   "metadata": {},
   "outputs": [
    {
     "name": "stderr",
     "output_type": "stream",
     "text": [
      "/Users/hachikaruanyakwee/Library/Python/3.9/lib/python/site-packages/urllib3/__init__.py:34: NotOpenSSLWarning: urllib3 v2.0 only supports OpenSSL 1.1.1+, currently the 'ssl' module is compiled with 'LibreSSL 2.8.3'. See: https://github.com/urllib3/urllib3/issues/3020\n",
      "  warnings.warn(\n"
     ]
    }
   ],
   "source": [
    "import os\n",
    "import requests\n",
    "from bs4 import BeautifulSoup, Comment\n",
    "import pandas as pd"
   ]
  },
  {
   "cell_type": "code",
   "execution_count": 2,
   "metadata": {},
   "outputs": [],
   "source": [
    "# Data directory configuration\n",
    "DATA_DIR = \"data\"\n",
    "RAW_DATA_DIR = os.path.join(\"..\", DATA_DIR, \"raw\")\n",
    "os.makedirs(RAW_DATA_DIR, exist_ok=True)"
   ]
  },
  {
   "cell_type": "code",
   "execution_count": 3,
   "metadata": {},
   "outputs": [],
   "source": [
    "# FBref URL for Brazilian Serie A 2024 Standard Stats\n",
    "URL = \"https://fbref.com/en/comps/24/stats/Serie-A-Stats#all_stats_standard\""
   ]
  },
  {
   "cell_type": "code",
   "execution_count": 4,
   "metadata": {},
   "outputs": [],
   "source": [
    "# Function to extract table from FBref HTML comments\n",
    "def get_fbref_table(url, table_id=\"stats_standard\"):\n",
    "    response = requests.get(url)\n",
    "    if response.status_code != 200:\n",
    "        raise Exception(f\"Failed to load page {url} with status code {response.status_code}\")\n",
    "    \n",
    "    soup = BeautifulSoup(response.content, \"html.parser\")\n",
    "    comments = soup.find_all(string=lambda text: isinstance(text, Comment))\n",
    "\n",
    "    for comment in comments:\n",
    "        comment_soup = BeautifulSoup(str(comment), \"html.parser\")\n",
    "        table = comment_soup.find(\"table\", id=table_id)\n",
    "        if table:\n",
    "            return table\n",
    "\n",
    "    raise Exception(f\"Could not find the table '{table_id}' in the HTML comments.\")"
   ]
  },
  {
   "cell_type": "code",
   "execution_count": null,
   "metadata": {},
   "outputs": [],
   "source": [
    "# Function to parse HTML table into DataFrame\n",
    "def parse_table_to_df(table):\n",
    "    try:\n",
    "        header_rows = table.find(\"thead\").find_all(\"tr\")\n",
    "        headers = [th.get_text(strip=True) for th in header_rows[1].find_all(\"th\")] # Use second row as header\n",
    "        if not headers:\n",
    "            raise Exception(\"Header contains no data.\")\n",
    "    except (AttributeError, IndexError):\n",
    "        raise Exception(\"Header not found or malformed.\")\n",
    "    data_rows = []\n",
    "\n",
    "    body_rows = table.find(\"tbody\").find_all(\"tr\")\n",
    "    for row in body_rows:\n",
    "        if row.get(\"class\") and \"thead\" in row.get(\"class\"):\n",
    "            continue  # Skip sub-header rows\n",
    "\n",
    "        cells = row.find_all([\"th\", \"td\"])\n",
    "        row_data = [cell.get_text(strip=True) for cell in cells]\n",
    "\n",
    "        # Pad row_data with None if it's shorter than headers\n",
    "        if len(row_data) < len(headers):\n",
    "            row_data.extend([None] * (len(headers) - len(row_data)))\n",
    "        elif len(row_data) > len(headers):\n",
    "            print(f\"⚠️ Row length exceeds header length ({len(row_data)} vs {len(headers)}): {row_data}\")\n",
    "            row_data = row_data[:len(headers)]\n",
    "        data_rows.append(row_data)\n",
    "\n",
    "    if not data_rows:\n",
    "        raise Exception(\"❌ Error: No valid rows found in table.\")\n",
    "\n",
    "    return pd.DataFrame(data_rows, columns=headers)"
   ]
  },
  {
   "cell_type": "code",
   "execution_count": 6,
   "metadata": {},
   "outputs": [],
   "source": [
    "# Save DataFrame to CSV\n",
    "def save_to_csv(df, filename):\n",
    "    file_path = os.path.join(RAW_DATA_DIR, filename)\n",
    "    df.to_csv(file_path, index=False)\n",
    "    print(f\"✅ Saved data to {file_path}\")"
   ]
  },
  {
   "cell_type": "code",
   "execution_count": 7,
   "metadata": {},
   "outputs": [
    {
     "name": "stderr",
     "output_type": "stream",
     "text": [
      "/var/folders/wc/lj0_3jjn1zv0_y7s7thm5jqw0000gn/T/ipykernel_22825/2105616180.py:11: MarkupResemblesLocatorWarning: The input looks more like a filename than markup. You may want to open this file and pass the filehandle into Beautiful Soup.\n",
      "  comment_soup = BeautifulSoup(str(comment), \"html.parser\")\n"
     ]
    },
    {
     "name": "stdout",
     "output_type": "stream",
     "text": [
      "✅ Saved data to ../data/raw/serie_a_brazil_2024_standard_stats.csv\n"
     ]
    }
   ],
   "source": [
    "# Main script runner\n",
    "def main():\n",
    "    table = get_fbref_table(URL)\n",
    "    df = parse_table_to_df(table)\n",
    "    save_to_csv(df, \"serie_a_brazil_2024_standard_stats.csv\")\n",
    "    \n",
    "if __name__ == \"__main__\":\n",
    "    main()"
   ]
  }
 ],
 "metadata": {
  "kernelspec": {
   "display_name": "Python 3",
   "language": "python",
   "name": "python3"
  },
  "language_info": {
   "codemirror_mode": {
    "name": "ipython",
    "version": 3
   },
   "file_extension": ".py",
   "mimetype": "text/x-python",
   "name": "python",
   "nbconvert_exporter": "python",
   "pygments_lexer": "ipython3",
   "version": "3.9.6"
  }
 },
 "nbformat": 4,
 "nbformat_minor": 2
}
