{
 "cells": [
  {
   "cell_type": "code",
   "execution_count": 1,
   "metadata": {},
   "outputs": [
    {
     "name": "stderr",
     "output_type": "stream",
     "text": [
      "/Users/hachikaruanyakwee/Library/Python/3.9/lib/python/site-packages/urllib3/__init__.py:34: NotOpenSSLWarning: urllib3 v2.0 only supports OpenSSL 1.1.1+, currently the 'ssl' module is compiled with 'LibreSSL 2.8.3'. See: https://github.com/urllib3/urllib3/issues/3020\n",
      "  warnings.warn(\n"
     ]
    }
   ],
   "source": [
    "import os\n",
    "import time\n",
    "import logging\n",
    "import pandas as pd\n",
    "from selenium import webdriver\n",
    "from selenium.webdriver.common.by import By\n",
    "from selenium.webdriver.chrome.service import Service\n",
    "from webdriver_manager.chrome import ChromeDriverManager\n",
    "from selenium.webdriver.support.ui import WebDriverWait\n",
    "from selenium.webdriver.support import expected_conditions as EC"
   ]
  },
  {
   "cell_type": "code",
   "execution_count": 2,
   "metadata": {},
   "outputs": [],
   "source": [
    "#Setup logging\n",
    "logging.basicConfig(level=logging.INFO, format=\"%(asctime)s - %(levelname)s - %(message)s\")\n"
   ]
  },
  {
   "cell_type": "code",
   "execution_count": 3,
   "metadata": {},
   "outputs": [],
   "source": [
    "#Transfermarkt URL\n",
    "URL = \"https://www.transfermarkt.com/scorer/toptorschuetzen/statistik/2024/plus/1/galerie/0\""
   ]
  },
  {
   "cell_type": "code",
   "execution_count": 4,
   "metadata": {},
   "outputs": [],
   "source": [
    "#Ensure the 'data/raw' directory exists\n",
    "OUTPUT_DIR = \"data/raw\"\n",
    "os.makedirs(OUTPUT_DIR, exist_ok=True)  #Auto-create missing directories"
   ]
  },
  {
   "cell_type": "code",
   "execution_count": 5,
   "metadata": {},
   "outputs": [],
   "source": [
    "#Function to set up Selenium WebDriver\n",
    "def setup_driver():\n",
    "    options = webdriver.ChromeOptions()\n",
    "    options.add_argument(\"--headless\")  #Run in headless mode (no UI)\n",
    "    options.add_argument(\"--disable-gpu\")\n",
    "    options.add_argument(\"--window-size=1920,1080\")\n",
    "    options.add_argument(\"--no-sandbox\")\n",
    "    options.add_argument(\"--disable-dev-shm-usage\")\n",
    "    options.add_argument(\"user-agent=Mozilla/5.0 (Windows NT 10.0; Win64; x64) AppleWebKit/537.36 (KHTML, like Gecko) Chrome/112.0.0.0 Safari/537.36\")\n",
    "\n",
    "    service = Service(ChromeDriverManager().install())\n",
    "    driver = webdriver.Chrome(service=service, options=options)\n",
    "    return driver"
   ]
  },
  {
   "cell_type": "code",
   "execution_count": 6,
   "metadata": {},
   "outputs": [],
   "source": [
    "# Function to scrape data using Selenium\n",
    "def scrape_strikers():\n",
    "    driver = setup_driver()\n",
    "    logging.info(\"🚀 Launching browser and fetching Transfermarkt page...\")\n",
    "    driver.get(URL)\n",
    "\n",
    "    # Wait until the table loads\n",
    "    try:\n",
    "        WebDriverWait(driver, 10).until(\n",
    "            EC.presence_of_element_located((By.CLASS_NAME, \"items\"))\n",
    "        )\n",
    "        logging.info(\"✅ Table loaded successfully!\")\n",
    "    except:\n",
    "        logging.error(\"❌ Table not found. Exiting...\")\n",
    "        driver.quit()\n",
    "        return\n",
    "\n",
    "    # Extract rows from the table\n",
    "    rows = driver.find_elements(By.XPATH, \"//table[contains(@class, 'items')]/tbody/tr\")\n",
    "    all_players = []\n",
    "\n",
    "    for row in rows:\n",
    "        try:\n",
    "            name = row.find_element(By.XPATH, \".//td[2]//a\").text.strip() if row.find_elements(By.XPATH, \".//td[2]//a\") else \"N/A\"\n",
    "            age = row.find_element(By.XPATH, \".//td[3]\").text.strip() if row.find_elements(By.XPATH, \".//td[3]\") else \"N/A\"\n",
    "            club = row.find_element(By.XPATH, \".//td[4]//a\").text.strip() if row.find_elements(By.XPATH, \".//td[4]//a\") else \"N/A\"\n",
    "            matches = row.find_element(By.XPATH, \".//td[5]\").text.strip() if row.find_elements(By.XPATH, \".//td[5]\") else \"N/A\"\n",
    "            goals = row.find_element(By.XPATH, \".//td[6]\").text.strip() if row.find_elements(By.XPATH, \".//td[6]\") else \"N/A\"\n",
    "            market_value = row.find_element(By.XPATH, \".//td[last()]\").text.strip() if row.find_elements(By.XPATH, \".//td[last()]\") else \"N/A\"\n",
    "            \n",
    "            player_data = {\n",
    "                \"Name\": name,\n",
    "                \"Age\": age,\n",
    "                \"Club\": club,\n",
    "                \"Matches\": matches,\n",
    "                \"Goals\": goals,\n",
    "                \"Market Value\": market_value\n",
    "            }\n",
    "            all_players.append(player_data)\n",
    "\n",
    "        except Exception as e:\n",
    "            logging.warning(f\"⚠️ Skipping row due to error: {e}\")\n",
    "\n",
    "    # Close browser session\n",
    "    driver.quit()\n",
    "\n",
    "    # Convert to DataFrame\n",
    "    df_players = pd.DataFrame(all_players)\n",
    "\n",
    "    # Save data to CSV\n",
    "    output_file = os.path.join(OUTPUT_DIR, \"transfermarkt_top_scorers.csv\")\n",
    "    df_players.to_csv(output_file, index=False)\n",
    "    logging.info(f\"✅ Data saved successfully in {output_file}\")"
   ]
  },
  {
   "cell_type": "code",
   "execution_count": 7,
   "metadata": {},
   "outputs": [
    {
     "name": "stderr",
     "output_type": "stream",
     "text": [
      "2025-03-26 18:28:26,485 - INFO - ====== WebDriver manager ======\n",
      "2025-03-26 18:28:26,709 - INFO - Get LATEST chromedriver version for google-chrome\n",
      "2025-03-26 18:28:26,760 - INFO - Get LATEST chromedriver version for google-chrome\n",
      "2025-03-26 18:28:26,806 - INFO - Driver [/Users/hachikaruanyakwee/.wdm/drivers/chromedriver/mac64/134.0.6998.165/chromedriver-mac-arm64/chromedriver] found in cache\n",
      "2025-03-26 18:28:27,953 - INFO - 🚀 Launching browser and fetching Transfermarkt page...\n",
      "2025-03-26 18:28:29,729 - INFO - ✅ Table loaded successfully!\n",
      "2025-03-26 18:28:31,416 - INFO - ✅ Data saved successfully in data/raw/transfermarkt_top_scorers.csv\n"
     ]
    }
   ],
   "source": [
    "# Run the scraper\n",
    "if __name__ == \"__main__\":\n",
    "    scrape_strikers()"
   ]
  }
 ],
 "metadata": {
  "kernelspec": {
   "display_name": "Python 3",
   "language": "python",
   "name": "python3"
  },
  "language_info": {
   "codemirror_mode": {
    "name": "ipython",
    "version": 3
   },
   "file_extension": ".py",
   "mimetype": "text/x-python",
   "name": "python",
   "nbconvert_exporter": "python",
   "pygments_lexer": "ipython3",
   "version": "3.9.6"
  }
 },
 "nbformat": 4,
 "nbformat_minor": 2
}
