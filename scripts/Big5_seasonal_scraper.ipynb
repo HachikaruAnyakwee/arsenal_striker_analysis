{
 "cells": [
  {
   "cell_type": "code",
   "execution_count": 1,
   "metadata": {},
   "outputs": [
    {
     "name": "stderr",
     "output_type": "stream",
     "text": [
      "/Users/hachikaruanyakwee/Library/Python/3.9/lib/python/site-packages/urllib3/__init__.py:34: NotOpenSSLWarning: urllib3 v2.0 only supports OpenSSL 1.1.1+, currently the 'ssl' module is compiled with 'LibreSSL 2.8.3'. See: https://github.com/urllib3/urllib3/issues/3020\n",
      "  warnings.warn(\n"
     ]
    }
   ],
   "source": [
    "import os\n",
    "import requests\n",
    "from bs4 import BeautifulSoup, Comment\n",
    "import pandas as pd"
   ]
  },
  {
   "cell_type": "code",
   "execution_count": 2,
   "metadata": {},
   "outputs": [],
   "source": [
    "# Data directory configuration\n",
    "DATA_DIR = \"data\"\n",
    "RAW_DATA_DIR = os.path.join(\"..\", DATA_DIR, \"raw\", \"big5\")\n",
    "os.makedirs(RAW_DATA_DIR, exist_ok=True)"
   ]
  },
  {
   "cell_type": "code",
   "execution_count": 3,
   "metadata": {},
   "outputs": [],
   "source": [
    "# FBref URLs for Big 5 European Leagues seasons\n",
    "SEASONS = {\n",
    "    \"2023-2024\": \"https://fbref.com/en/comps/Big5/2023-2024/2023-2024-Big-5-European-Leagues-Stats\",\n",
    "    \"2022-2023\": \"https://fbref.com/en/comps/Big5/2022-2023/2022-2023-Big-5-European-Leagues-Stats\",\n",
    "    \"2021-2022\": \"https://fbref.com/en/comps/Big5/2021-2022/2021-2022-Big-5-European-Leagues-Stats\",\n",
    "    \"2020-2021\": \"https://fbref.com/en/comps/Big5/2020-2021/2020-2021-Big-5-European-Leagues-Stats\"\n",
    "}"
   ]
  },
  {
   "cell_type": "code",
   "execution_count": 4,
   "metadata": {},
   "outputs": [],
   "source": [
    "# Function to scrape FBref stats for a given season\n",
    "def scrape_fbref_stats(url):\n",
    "    headers = {\"User-Agent\": \"Mozilla/5.0\"}\n",
    "    response = requests.get(url, headers=headers)\n",
    "    soup = BeautifulSoup(response.text, 'html.parser')\n",
    "    table = soup.find('table')\n",
    "    if table is None:\n",
    "        raise Exception(\"No tables found\")\n",
    "\n",
    "    headers = [th.text.strip() for th in table.find('tr').find_all('th')]\n",
    "    data = []\n",
    "    for row in table.find_all('tr')[1:]:\n",
    "        data.append([td.text.strip() for td in row.find_all('td')])\n",
    "\n",
    "    return pd.DataFrame(data, columns=headers)"
   ]
  },
  {
   "cell_type": "code",
   "execution_count": 5,
   "metadata": {},
   "outputs": [
    {
     "name": "stdout",
     "output_type": "stream",
     "text": [
      "❌ Error for season 2023-2024: 20 columns passed, passed data had 19 columns\n",
      "❌ Error for season 2022-2023: 20 columns passed, passed data had 19 columns\n",
      "❌ Error for season 2021-2022: 20 columns passed, passed data had 19 columns\n",
      "❌ Error for season 2020-2021: 20 columns passed, passed data had 19 columns\n"
     ]
    }
   ],
   "source": [
    "# Function to extract comments from HTML\n",
    "def main():\n",
    "    for season, url in SEASONS.items():\n",
    "        try:\n",
    "            df = scrape_fbref_stats(url)\n",
    "            df.to_csv(os.path.join(RAW_DATA_DIR, f'big5_european_leagues_{season}_standard_stats.csv'), index=False)\n",
    "            print(f\"✅ Saved data to {os.path.join(RAW_DATA_DIR, f'big5_european_leagues_{season}_standard_stats.csv')}\")\n",
    "        except Exception as e:\n",
    "            print(f\"❌ Error for season {season}: {e}\")\n",
    "\n",
    "if __name__ == \"__main__\":\n",
    "    main()"
   ]
  }
 ],
 "metadata": {
  "kernelspec": {
   "display_name": "Python 3",
   "language": "python",
   "name": "python3"
  },
  "language_info": {
   "codemirror_mode": {
    "name": "ipython",
    "version": 3
   },
   "file_extension": ".py",
   "mimetype": "text/x-python",
   "name": "python",
   "nbconvert_exporter": "python",
   "pygments_lexer": "ipython3",
   "version": "3.9.6"
  }
 },
 "nbformat": 4,
 "nbformat_minor": 2
}
